{
    "nbformat_minor": 1, 
    "cells": [
        {
            "source": "# Applied data science capstone\n\nThis notebook is part of the Coursera course for Applied data science capstone (week 3).\n\nTo do so, this notebook will folow two parts:\n\nPart 1 was presented in the previous notebook and consist of the following steps:\n\n1. Import the necessary modules.\n2. Get the data provided in the lab section.\n3. Check the data.\n4. Cleaning the data I (if the value of column \"Borough\" is \"Not Assigned\" the row will be droped). \n5. Checking the dataframe (verify if all the row that didn't have an assigned value for the column \"Borough\" were excluded).\n6. Cleaning the data II (if the value of \"Neighbourhood\" is \"Not Assigned\", the value of \"Neighbourhood\" will be equal to the value of \"Borough\").\n7. Checking the dataframe (verifying if the postalcode \"M7A\", Queen's Land was updated).\n8. Joining the Neighbourhoods with the same postal code.\n9. Checking the shape of the dataframe.\n\nPart 2 is the main goal of this notebook and consists of the following steps:\n\n1. Import the extra modules for Part 2.\n2. Getting the coordinates using geocode (since the package is unreliable, step 2 was not performed, steps 3 to 5 five imported the information).\n3. Retrieving the geodata using the url provided in the lab.\n4. Using geo dataframe to create two support lists to complete the first dataframe.\n5. Creating the new columns (latitude and longitude) and updating the dataframe with the extra information.\n", 
            "cell_type": "markdown", 
            "metadata": {
                "collapsed": true
            }
        }, 
        {
            "source": "1 - First, let's import the modules", 
            "cell_type": "markdown", 
            "metadata": {}
        }, 
        {
            "source": "import pandas as pd\nfrom pandas.io.html import read_html\nimport numpy as np", 
            "cell_type": "code", 
            "execution_count": 10, 
            "outputs": [], 
            "metadata": {}
        }, 
        {
            "source": "2 - Get the data from the url provided in the lab and assigning it to a variable", 
            "cell_type": "markdown", 
            "metadata": {}
        }, 
        {
            "source": "url_page = 'https://en.wikipedia.org/wiki/List_of_postal_codes_of_Canada:_M'\n\n#Searching in url for wikitables\ntable = read_html(url_page,  attrs={\"class\":\"wikitable\"})\n\n#Check how many tables were imported\nprint (\"Extracted {num} table from url\".format(num=len(table)))", 
            "cell_type": "code", 
            "execution_count": 2, 
            "outputs": [
                {
                    "output_type": "stream", 
                    "name": "stdout", 
                    "text": "Extracted 1 table from url\n"
                }
            ], 
            "metadata": {}
        }, 
        {
            "source": "3 - Since only one table were imported, the data can be acessed through \"table[0]\"", 
            "cell_type": "markdown", 
            "metadata": {}
        }, 
        {
            "source": "table[0].head()", 
            "cell_type": "code", 
            "execution_count": 7, 
            "outputs": [
                {
                    "output_type": "execute_result", 
                    "metadata": {}, 
                    "data": {
                        "text/html": "<div>\n<style scoped>\n    .dataframe tbody tr th:only-of-type {\n        vertical-align: middle;\n    }\n\n    .dataframe tbody tr th {\n        vertical-align: top;\n    }\n\n    .dataframe thead th {\n        text-align: right;\n    }\n</style>\n<table border=\"1\" class=\"dataframe\">\n  <thead>\n    <tr style=\"text-align: right;\">\n      <th></th>\n      <th>Postcode</th>\n      <th>Borough</th>\n      <th>Neighbourhood</th>\n    </tr>\n  </thead>\n  <tbody>\n    <tr>\n      <th>0</th>\n      <td>M1A</td>\n      <td>Not assigned</td>\n      <td>Not assigned</td>\n    </tr>\n    <tr>\n      <th>1</th>\n      <td>M2A</td>\n      <td>Not assigned</td>\n      <td>Not assigned</td>\n    </tr>\n    <tr>\n      <th>2</th>\n      <td>M3A</td>\n      <td>North York</td>\n      <td>Parkwoods</td>\n    </tr>\n    <tr>\n      <th>3</th>\n      <td>M4A</td>\n      <td>North York</td>\n      <td>Victoria Village</td>\n    </tr>\n    <tr>\n      <th>4</th>\n      <td>M5A</td>\n      <td>Downtown Toronto</td>\n      <td>Harbourfront</td>\n    </tr>\n  </tbody>\n</table>\n</div>", 
                        "text/plain": "  Postcode           Borough     Neighbourhood\n0      M1A      Not assigned      Not assigned\n1      M2A      Not assigned      Not assigned\n2      M3A        North York         Parkwoods\n3      M4A        North York  Victoria Village\n4      M5A  Downtown Toronto      Harbourfront"
                    }, 
                    "execution_count": 7
                }
            ], 
            "metadata": {}
        }, 
        {
            "source": "4 - Cleaning the cells that doens't have an assigned Borough", 
            "cell_type": "markdown", 
            "metadata": {}
        }, 
        {
            "source": "#Identify where the indexes where Borough is \"Not assigned\"\nindexNames = table[0][ table[0]['Borough'] == 'Not assigned' ].index\n\n# Delete these row indexes from dataFrame\ntable[0].drop(indexNames , inplace=True)", 
            "cell_type": "code", 
            "execution_count": 3, 
            "outputs": [], 
            "metadata": {}
        }, 
        {
            "source": "5 - Checking the table to verify if all the row that met the criteria were excluded", 
            "cell_type": "markdown", 
            "metadata": {}
        }, 
        {
            "source": "indexNames = table[0][ table[0]['Borough'] == 'Not assigned' ].index\nlen(indexNames)", 
            "cell_type": "code", 
            "execution_count": 4, 
            "outputs": [
                {
                    "output_type": "execute_result", 
                    "metadata": {}, 
                    "data": {
                        "text/plain": "0"
                    }, 
                    "execution_count": 4
                }
            ], 
            "metadata": {}
        }, 
        {
            "source": "Since no indexes were found labeled as \"Not Assigned\" the \"Borough\", column \"Borough\" is cleaned", 
            "cell_type": "markdown", 
            "metadata": {}
        }, 
        {
            "source": "6 - If the neighbourhood is not assigned, the neighborhood will be equal to Borough", 
            "cell_type": "markdown", 
            "metadata": {}
        }, 
        {
            "source": "#First, identify all indixes of neighbourhoods that doens't have an assigned value\nindexNames = table[0][ table[0]['Neighbourhood'] == 'Not assigned' ].index\n\n#Assigning the value of \"Borough\" to \"Neighbourhood\" when \"Neighbourhood\" = \"Not assigned\"\nfor i in indexNames:\n    table[0]['Neighbourhood'][i] = table[0]['Borough'][i] ", 
            "cell_type": "code", 
            "execution_count": 5, 
            "outputs": [], 
            "metadata": {}
        }, 
        {
            "source": "7 - Verifying if M7A \"Queen's park\" was updated, since it was the only value with a Borough that was missing the Neighboorhood", 
            "cell_type": "markdown", 
            "metadata": {}
        }, 
        {
            "source": "table[0].loc[table[0]['Postcode'] == 'M7A']", 
            "cell_type": "code", 
            "execution_count": 6, 
            "outputs": [
                {
                    "output_type": "execute_result", 
                    "metadata": {}, 
                    "data": {
                        "text/html": "<div>\n<style scoped>\n    .dataframe tbody tr th:only-of-type {\n        vertical-align: middle;\n    }\n\n    .dataframe tbody tr th {\n        vertical-align: top;\n    }\n\n    .dataframe thead th {\n        text-align: right;\n    }\n</style>\n<table border=\"1\" class=\"dataframe\">\n  <thead>\n    <tr style=\"text-align: right;\">\n      <th></th>\n      <th>Postcode</th>\n      <th>Borough</th>\n      <th>Neighbourhood</th>\n    </tr>\n  </thead>\n  <tbody>\n    <tr>\n      <th>8</th>\n      <td>M7A</td>\n      <td>Queen's Park</td>\n      <td>Queen's Park</td>\n    </tr>\n  </tbody>\n</table>\n</div>", 
                        "text/plain": "  Postcode       Borough Neighbourhood\n8      M7A  Queen's Park  Queen's Park"
                    }, 
                    "execution_count": 6
                }
            ], 
            "metadata": {}
        }, 
        {
            "source": "8 - Joining the neighboorhood with the same postal code area", 
            "cell_type": "markdown", 
            "metadata": {}
        }, 
        {
            "source": "#Grouping the information based on the Postcode and joining the column neighbourhood that has the same postal code separeted by a comma\ntable[0] = table[0].groupby(['Postcode', 'Borough'],as_index=False)['Neighbourhood'].agg(lambda x:', '.join(x))\ntable[0]", 
            "cell_type": "code", 
            "execution_count": 7, 
            "outputs": [
                {
                    "output_type": "execute_result", 
                    "metadata": {}, 
                    "data": {
                        "text/html": "<div>\n<style scoped>\n    .dataframe tbody tr th:only-of-type {\n        vertical-align: middle;\n    }\n\n    .dataframe tbody tr th {\n        vertical-align: top;\n    }\n\n    .dataframe thead th {\n        text-align: right;\n    }\n</style>\n<table border=\"1\" class=\"dataframe\">\n  <thead>\n    <tr style=\"text-align: right;\">\n      <th></th>\n      <th>Postcode</th>\n      <th>Borough</th>\n      <th>Neighbourhood</th>\n    </tr>\n  </thead>\n  <tbody>\n    <tr>\n      <th>0</th>\n      <td>M1B</td>\n      <td>Scarborough</td>\n      <td>Rouge, Malvern</td>\n    </tr>\n    <tr>\n      <th>1</th>\n      <td>M1C</td>\n      <td>Scarborough</td>\n      <td>Highland Creek, Rouge Hill, Port Union</td>\n    </tr>\n    <tr>\n      <th>2</th>\n      <td>M1E</td>\n      <td>Scarborough</td>\n      <td>Guildwood, Morningside, West Hill</td>\n    </tr>\n    <tr>\n      <th>3</th>\n      <td>M1G</td>\n      <td>Scarborough</td>\n      <td>Woburn</td>\n    </tr>\n    <tr>\n      <th>4</th>\n      <td>M1H</td>\n      <td>Scarborough</td>\n      <td>Cedarbrae</td>\n    </tr>\n    <tr>\n      <th>5</th>\n      <td>M1J</td>\n      <td>Scarborough</td>\n      <td>Scarborough Village</td>\n    </tr>\n    <tr>\n      <th>6</th>\n      <td>M1K</td>\n      <td>Scarborough</td>\n      <td>East Birchmount Park, Ionview, Kennedy Park</td>\n    </tr>\n    <tr>\n      <th>7</th>\n      <td>M1L</td>\n      <td>Scarborough</td>\n      <td>Clairlea, Golden Mile, Oakridge</td>\n    </tr>\n    <tr>\n      <th>8</th>\n      <td>M1M</td>\n      <td>Scarborough</td>\n      <td>Cliffcrest, Cliffside, Scarborough Village West</td>\n    </tr>\n    <tr>\n      <th>9</th>\n      <td>M1N</td>\n      <td>Scarborough</td>\n      <td>Birch Cliff, Cliffside West</td>\n    </tr>\n    <tr>\n      <th>10</th>\n      <td>M1P</td>\n      <td>Scarborough</td>\n      <td>Dorset Park, Scarborough Town Centre, Wexford ...</td>\n    </tr>\n    <tr>\n      <th>11</th>\n      <td>M1R</td>\n      <td>Scarborough</td>\n      <td>Maryvale, Wexford</td>\n    </tr>\n    <tr>\n      <th>12</th>\n      <td>M1S</td>\n      <td>Scarborough</td>\n      <td>Agincourt</td>\n    </tr>\n    <tr>\n      <th>13</th>\n      <td>M1T</td>\n      <td>Scarborough</td>\n      <td>Clarks Corners, Sullivan, Tam O'Shanter</td>\n    </tr>\n    <tr>\n      <th>14</th>\n      <td>M1V</td>\n      <td>Scarborough</td>\n      <td>Agincourt North, L'Amoreaux East, Milliken, St...</td>\n    </tr>\n    <tr>\n      <th>15</th>\n      <td>M1W</td>\n      <td>Scarborough</td>\n      <td>L'Amoreaux West</td>\n    </tr>\n    <tr>\n      <th>16</th>\n      <td>M1X</td>\n      <td>Scarborough</td>\n      <td>Upper Rouge</td>\n    </tr>\n    <tr>\n      <th>17</th>\n      <td>M2H</td>\n      <td>North York</td>\n      <td>Hillcrest Village</td>\n    </tr>\n    <tr>\n      <th>18</th>\n      <td>M2J</td>\n      <td>North York</td>\n      <td>Fairview, Henry Farm, Oriole</td>\n    </tr>\n    <tr>\n      <th>19</th>\n      <td>M2K</td>\n      <td>North York</td>\n      <td>Bayview Village</td>\n    </tr>\n    <tr>\n      <th>20</th>\n      <td>M2L</td>\n      <td>North York</td>\n      <td>Silver Hills, York Mills</td>\n    </tr>\n    <tr>\n      <th>21</th>\n      <td>M2M</td>\n      <td>North York</td>\n      <td>Newtonbrook, Willowdale</td>\n    </tr>\n    <tr>\n      <th>22</th>\n      <td>M2N</td>\n      <td>North York</td>\n      <td>Willowdale South</td>\n    </tr>\n    <tr>\n      <th>23</th>\n      <td>M2P</td>\n      <td>North York</td>\n      <td>York Mills West</td>\n    </tr>\n    <tr>\n      <th>24</th>\n      <td>M2R</td>\n      <td>North York</td>\n      <td>Willowdale West</td>\n    </tr>\n    <tr>\n      <th>25</th>\n      <td>M3A</td>\n      <td>North York</td>\n      <td>Parkwoods</td>\n    </tr>\n    <tr>\n      <th>26</th>\n      <td>M3B</td>\n      <td>North York</td>\n      <td>Don Mills North</td>\n    </tr>\n    <tr>\n      <th>27</th>\n      <td>M3C</td>\n      <td>North York</td>\n      <td>Flemingdon Park, Don Mills South</td>\n    </tr>\n    <tr>\n      <th>28</th>\n      <td>M3H</td>\n      <td>North York</td>\n      <td>Bathurst Manor, Downsview North, Wilson Heights</td>\n    </tr>\n    <tr>\n      <th>29</th>\n      <td>M3J</td>\n      <td>North York</td>\n      <td>Northwood Park, York University</td>\n    </tr>\n    <tr>\n      <th>...</th>\n      <td>...</td>\n      <td>...</td>\n      <td>...</td>\n    </tr>\n    <tr>\n      <th>73</th>\n      <td>M6C</td>\n      <td>York</td>\n      <td>Humewood-Cedarvale</td>\n    </tr>\n    <tr>\n      <th>74</th>\n      <td>M6E</td>\n      <td>York</td>\n      <td>Caledonia-Fairbanks</td>\n    </tr>\n    <tr>\n      <th>75</th>\n      <td>M6G</td>\n      <td>Downtown Toronto</td>\n      <td>Christie</td>\n    </tr>\n    <tr>\n      <th>76</th>\n      <td>M6H</td>\n      <td>West Toronto</td>\n      <td>Dovercourt Village, Dufferin</td>\n    </tr>\n    <tr>\n      <th>77</th>\n      <td>M6J</td>\n      <td>West Toronto</td>\n      <td>Little Portugal, Trinity</td>\n    </tr>\n    <tr>\n      <th>78</th>\n      <td>M6K</td>\n      <td>West Toronto</td>\n      <td>Brockton, Exhibition Place, Parkdale Village</td>\n    </tr>\n    <tr>\n      <th>79</th>\n      <td>M6L</td>\n      <td>North York</td>\n      <td>Downsview, North Park, Upwood Park</td>\n    </tr>\n    <tr>\n      <th>80</th>\n      <td>M6M</td>\n      <td>York</td>\n      <td>Del Ray, Keelesdale, Mount Dennis, Silverthorn</td>\n    </tr>\n    <tr>\n      <th>81</th>\n      <td>M6N</td>\n      <td>York</td>\n      <td>The Junction North, Runnymede</td>\n    </tr>\n    <tr>\n      <th>82</th>\n      <td>M6P</td>\n      <td>West Toronto</td>\n      <td>High Park, The Junction South</td>\n    </tr>\n    <tr>\n      <th>83</th>\n      <td>M6R</td>\n      <td>West Toronto</td>\n      <td>Parkdale, Roncesvalles</td>\n    </tr>\n    <tr>\n      <th>84</th>\n      <td>M6S</td>\n      <td>West Toronto</td>\n      <td>Runnymede, Swansea</td>\n    </tr>\n    <tr>\n      <th>85</th>\n      <td>M7A</td>\n      <td>Queen's Park</td>\n      <td>Queen's Park</td>\n    </tr>\n    <tr>\n      <th>86</th>\n      <td>M7R</td>\n      <td>Mississauga</td>\n      <td>Canada Post Gateway Processing Centre</td>\n    </tr>\n    <tr>\n      <th>87</th>\n      <td>M7Y</td>\n      <td>East Toronto</td>\n      <td>Business Reply Mail Processing Centre 969 Eastern</td>\n    </tr>\n    <tr>\n      <th>88</th>\n      <td>M8V</td>\n      <td>Etobicoke</td>\n      <td>Humber Bay Shores, Mimico South, New Toronto</td>\n    </tr>\n    <tr>\n      <th>89</th>\n      <td>M8W</td>\n      <td>Etobicoke</td>\n      <td>Alderwood, Long Branch</td>\n    </tr>\n    <tr>\n      <th>90</th>\n      <td>M8X</td>\n      <td>Etobicoke</td>\n      <td>The Kingsway, Montgomery Road, Old Mill North</td>\n    </tr>\n    <tr>\n      <th>91</th>\n      <td>M8Y</td>\n      <td>Etobicoke</td>\n      <td>Humber Bay, King's Mill Park, Kingsway Park So...</td>\n    </tr>\n    <tr>\n      <th>92</th>\n      <td>M8Z</td>\n      <td>Etobicoke</td>\n      <td>Kingsway Park South West, Mimico NW, The Queen...</td>\n    </tr>\n    <tr>\n      <th>93</th>\n      <td>M9A</td>\n      <td>Etobicoke</td>\n      <td>Islington Avenue</td>\n    </tr>\n    <tr>\n      <th>94</th>\n      <td>M9B</td>\n      <td>Etobicoke</td>\n      <td>Cloverdale, Islington, Martin Grove, Princess ...</td>\n    </tr>\n    <tr>\n      <th>95</th>\n      <td>M9C</td>\n      <td>Etobicoke</td>\n      <td>Bloordale Gardens, Eringate, Markland Wood, Ol...</td>\n    </tr>\n    <tr>\n      <th>96</th>\n      <td>M9L</td>\n      <td>North York</td>\n      <td>Humber Summit</td>\n    </tr>\n    <tr>\n      <th>97</th>\n      <td>M9M</td>\n      <td>North York</td>\n      <td>Emery, Humberlea</td>\n    </tr>\n    <tr>\n      <th>98</th>\n      <td>M9N</td>\n      <td>York</td>\n      <td>Weston</td>\n    </tr>\n    <tr>\n      <th>99</th>\n      <td>M9P</td>\n      <td>Etobicoke</td>\n      <td>Westmount</td>\n    </tr>\n    <tr>\n      <th>100</th>\n      <td>M9R</td>\n      <td>Etobicoke</td>\n      <td>Kingsview Village, Martin Grove Gardens, Richv...</td>\n    </tr>\n    <tr>\n      <th>101</th>\n      <td>M9V</td>\n      <td>Etobicoke</td>\n      <td>Albion Gardens, Beaumond Heights, Humbergate, ...</td>\n    </tr>\n    <tr>\n      <th>102</th>\n      <td>M9W</td>\n      <td>Etobicoke</td>\n      <td>Northwest</td>\n    </tr>\n  </tbody>\n</table>\n<p>103 rows \u00d7 3 columns</p>\n</div>", 
                        "text/plain": "    Postcode           Borough  \\\n0        M1B       Scarborough   \n1        M1C       Scarborough   \n2        M1E       Scarborough   \n3        M1G       Scarborough   \n4        M1H       Scarborough   \n5        M1J       Scarborough   \n6        M1K       Scarborough   \n7        M1L       Scarborough   \n8        M1M       Scarborough   \n9        M1N       Scarborough   \n10       M1P       Scarborough   \n11       M1R       Scarborough   \n12       M1S       Scarborough   \n13       M1T       Scarborough   \n14       M1V       Scarborough   \n15       M1W       Scarborough   \n16       M1X       Scarborough   \n17       M2H        North York   \n18       M2J        North York   \n19       M2K        North York   \n20       M2L        North York   \n21       M2M        North York   \n22       M2N        North York   \n23       M2P        North York   \n24       M2R        North York   \n25       M3A        North York   \n26       M3B        North York   \n27       M3C        North York   \n28       M3H        North York   \n29       M3J        North York   \n..       ...               ...   \n73       M6C              York   \n74       M6E              York   \n75       M6G  Downtown Toronto   \n76       M6H      West Toronto   \n77       M6J      West Toronto   \n78       M6K      West Toronto   \n79       M6L        North York   \n80       M6M              York   \n81       M6N              York   \n82       M6P      West Toronto   \n83       M6R      West Toronto   \n84       M6S      West Toronto   \n85       M7A      Queen's Park   \n86       M7R       Mississauga   \n87       M7Y      East Toronto   \n88       M8V         Etobicoke   \n89       M8W         Etobicoke   \n90       M8X         Etobicoke   \n91       M8Y         Etobicoke   \n92       M8Z         Etobicoke   \n93       M9A         Etobicoke   \n94       M9B         Etobicoke   \n95       M9C         Etobicoke   \n96       M9L        North York   \n97       M9M        North York   \n98       M9N              York   \n99       M9P         Etobicoke   \n100      M9R         Etobicoke   \n101      M9V         Etobicoke   \n102      M9W         Etobicoke   \n\n                                         Neighbourhood  \n0                                       Rouge, Malvern  \n1               Highland Creek, Rouge Hill, Port Union  \n2                    Guildwood, Morningside, West Hill  \n3                                               Woburn  \n4                                            Cedarbrae  \n5                                  Scarborough Village  \n6          East Birchmount Park, Ionview, Kennedy Park  \n7                      Clairlea, Golden Mile, Oakridge  \n8      Cliffcrest, Cliffside, Scarborough Village West  \n9                          Birch Cliff, Cliffside West  \n10   Dorset Park, Scarborough Town Centre, Wexford ...  \n11                                   Maryvale, Wexford  \n12                                           Agincourt  \n13             Clarks Corners, Sullivan, Tam O'Shanter  \n14   Agincourt North, L'Amoreaux East, Milliken, St...  \n15                                     L'Amoreaux West  \n16                                         Upper Rouge  \n17                                   Hillcrest Village  \n18                        Fairview, Henry Farm, Oriole  \n19                                     Bayview Village  \n20                            Silver Hills, York Mills  \n21                             Newtonbrook, Willowdale  \n22                                    Willowdale South  \n23                                     York Mills West  \n24                                     Willowdale West  \n25                                           Parkwoods  \n26                                     Don Mills North  \n27                    Flemingdon Park, Don Mills South  \n28     Bathurst Manor, Downsview North, Wilson Heights  \n29                     Northwood Park, York University  \n..                                                 ...  \n73                                  Humewood-Cedarvale  \n74                                 Caledonia-Fairbanks  \n75                                            Christie  \n76                        Dovercourt Village, Dufferin  \n77                            Little Portugal, Trinity  \n78        Brockton, Exhibition Place, Parkdale Village  \n79                  Downsview, North Park, Upwood Park  \n80      Del Ray, Keelesdale, Mount Dennis, Silverthorn  \n81                       The Junction North, Runnymede  \n82                       High Park, The Junction South  \n83                              Parkdale, Roncesvalles  \n84                                  Runnymede, Swansea  \n85                                        Queen's Park  \n86               Canada Post Gateway Processing Centre  \n87   Business Reply Mail Processing Centre 969 Eastern  \n88        Humber Bay Shores, Mimico South, New Toronto  \n89                              Alderwood, Long Branch  \n90       The Kingsway, Montgomery Road, Old Mill North  \n91   Humber Bay, King's Mill Park, Kingsway Park So...  \n92   Kingsway Park South West, Mimico NW, The Queen...  \n93                                    Islington Avenue  \n94   Cloverdale, Islington, Martin Grove, Princess ...  \n95   Bloordale Gardens, Eringate, Markland Wood, Ol...  \n96                                       Humber Summit  \n97                                    Emery, Humberlea  \n98                                              Weston  \n99                                           Westmount  \n100  Kingsview Village, Martin Grove Gardens, Richv...  \n101  Albion Gardens, Beaumond Heights, Humbergate, ...  \n102                                          Northwest  \n\n[103 rows x 3 columns]"
                    }, 
                    "execution_count": 7
                }
            ], 
            "metadata": {}
        }, 
        {
            "source": "9 - Verifying the frame's dimensions", 
            "cell_type": "markdown", 
            "metadata": {}
        }, 
        {
            "source": "table[0].shape", 
            "cell_type": "code", 
            "execution_count": 8, 
            "outputs": [
                {
                    "output_type": "execute_result", 
                    "metadata": {}, 
                    "data": {
                        "text/plain": "(103, 3)"
                    }, 
                    "execution_count": 8
                }
            ], 
            "metadata": {}
        }, 
        {
            "source": "# Part 2 of the lab section\n\nFrom this step forward, the notebook will identify the geolocation of the neighbourhoods", 
            "cell_type": "markdown", 
            "metadata": {}
        }, 
        {
            "source": "1 - Installing geocoder (if not installed) and importing geocoder for Part 2", 
            "cell_type": "markdown", 
            "metadata": {}
        }, 
        {
            "source": "!conda install -c conda-forge geocoder --yes\nimport geocoder", 
            "cell_type": "code", 
            "execution_count": 25, 
            "outputs": [
                {
                    "output_type": "stream", 
                    "name": "stdout", 
                    "text": "Solving environment: done\n\n## Package Plan ##\n\n  environment location: /opt/conda/envs/Python36\n\n  added / updated specs: \n    - geocoder\n\n\nThe following packages will be downloaded:\n\n    package                    |            build\n    ---------------------------|-----------------\n    geocoder-1.38.1            |             py_1          53 KB  conda-forge\n    ratelim-0.1.6              |             py_2           6 KB  conda-forge\n    ------------------------------------------------------------\n                                           Total:          59 KB\n\nThe following NEW packages will be INSTALLED:\n\n    geocoder: 1.38.1-py_1 conda-forge\n    ratelim:  0.1.6-py_2  conda-forge\n\n\nDownloading and Extracting Packages\ngeocoder-1.38.1      | 53 KB     | ##################################### | 100% \nratelim-0.1.6        | 6 KB      | ##################################### | 100% \nPreparing transaction: done\nVerifying transaction: done\nExecuting transaction: done\n"
                }
            ], 
            "metadata": {}
        }, 
        {
            "source": "2 - Getting the coordinates based on postalcode using geocoders", 
            "cell_type": "markdown", 
            "metadata": {}
        }, 
        {
            "source": "# initialize an empty list\nlat_lng_coords = [None]*len(table[0])\n\n# loop until you get the coordinates\nfor i in [0,2]:\n    while(lat_lng_coords[i] is None):\n        print(table[0]['Postcode'][i])\n        g = geocoder.google('{}, Toronto, Ontario'.format(table[0]['Postcode'][i]))\n        lat_lng_coords[i] = g.latlng\n        print(g)\n    table[0]['Latitude'][i] = lat_lng_coords[i][0]\n    table[0]['longitude'][i] = lat_lng_coords[i][1]\n    \ntable[0]", 
            "cell_type": "code", 
            "execution_count": null, 
            "outputs": [], 
            "metadata": {}
        }, 
        {
            "source": "As explained in the lab section, geocoder can be unreliable, this means that the command geocoder.google might not return any coordinates.\nDue the unreliability of the package, the second step will not be followed. Step 3 will replace step 2 due the unreliability of the package.", 
            "cell_type": "markdown", 
            "metadata": {}
        }, 
        {
            "source": "3 - Retrieving the geodata from the csv file provided in the lab.", 
            "cell_type": "markdown", 
            "metadata": {}
        }, 
        {
            "source": "#Saving the url of the csv file\nurl = 'http://cocl.us/Geospatial_data'\n\ngeo = pd.read_csv(url)\ngeo", 
            "cell_type": "code", 
            "execution_count": 11, 
            "outputs": [
                {
                    "output_type": "execute_result", 
                    "metadata": {}, 
                    "data": {
                        "text/html": "<div>\n<style scoped>\n    .dataframe tbody tr th:only-of-type {\n        vertical-align: middle;\n    }\n\n    .dataframe tbody tr th {\n        vertical-align: top;\n    }\n\n    .dataframe thead th {\n        text-align: right;\n    }\n</style>\n<table border=\"1\" class=\"dataframe\">\n  <thead>\n    <tr style=\"text-align: right;\">\n      <th></th>\n      <th>Postal Code</th>\n      <th>Latitude</th>\n      <th>Longitude</th>\n    </tr>\n  </thead>\n  <tbody>\n    <tr>\n      <th>0</th>\n      <td>M1B</td>\n      <td>43.806686</td>\n      <td>-79.194353</td>\n    </tr>\n    <tr>\n      <th>1</th>\n      <td>M1C</td>\n      <td>43.784535</td>\n      <td>-79.160497</td>\n    </tr>\n    <tr>\n      <th>2</th>\n      <td>M1E</td>\n      <td>43.763573</td>\n      <td>-79.188711</td>\n    </tr>\n    <tr>\n      <th>3</th>\n      <td>M1G</td>\n      <td>43.770992</td>\n      <td>-79.216917</td>\n    </tr>\n    <tr>\n      <th>4</th>\n      <td>M1H</td>\n      <td>43.773136</td>\n      <td>-79.239476</td>\n    </tr>\n    <tr>\n      <th>5</th>\n      <td>M1J</td>\n      <td>43.744734</td>\n      <td>-79.239476</td>\n    </tr>\n    <tr>\n      <th>6</th>\n      <td>M1K</td>\n      <td>43.727929</td>\n      <td>-79.262029</td>\n    </tr>\n    <tr>\n      <th>7</th>\n      <td>M1L</td>\n      <td>43.711112</td>\n      <td>-79.284577</td>\n    </tr>\n    <tr>\n      <th>8</th>\n      <td>M1M</td>\n      <td>43.716316</td>\n      <td>-79.239476</td>\n    </tr>\n    <tr>\n      <th>9</th>\n      <td>M1N</td>\n      <td>43.692657</td>\n      <td>-79.264848</td>\n    </tr>\n    <tr>\n      <th>10</th>\n      <td>M1P</td>\n      <td>43.757410</td>\n      <td>-79.273304</td>\n    </tr>\n    <tr>\n      <th>11</th>\n      <td>M1R</td>\n      <td>43.750072</td>\n      <td>-79.295849</td>\n    </tr>\n    <tr>\n      <th>12</th>\n      <td>M1S</td>\n      <td>43.794200</td>\n      <td>-79.262029</td>\n    </tr>\n    <tr>\n      <th>13</th>\n      <td>M1T</td>\n      <td>43.781638</td>\n      <td>-79.304302</td>\n    </tr>\n    <tr>\n      <th>14</th>\n      <td>M1V</td>\n      <td>43.815252</td>\n      <td>-79.284577</td>\n    </tr>\n    <tr>\n      <th>15</th>\n      <td>M1W</td>\n      <td>43.799525</td>\n      <td>-79.318389</td>\n    </tr>\n    <tr>\n      <th>16</th>\n      <td>M1X</td>\n      <td>43.836125</td>\n      <td>-79.205636</td>\n    </tr>\n    <tr>\n      <th>17</th>\n      <td>M2H</td>\n      <td>43.803762</td>\n      <td>-79.363452</td>\n    </tr>\n    <tr>\n      <th>18</th>\n      <td>M2J</td>\n      <td>43.778517</td>\n      <td>-79.346556</td>\n    </tr>\n    <tr>\n      <th>19</th>\n      <td>M2K</td>\n      <td>43.786947</td>\n      <td>-79.385975</td>\n    </tr>\n    <tr>\n      <th>20</th>\n      <td>M2L</td>\n      <td>43.757490</td>\n      <td>-79.374714</td>\n    </tr>\n    <tr>\n      <th>21</th>\n      <td>M2M</td>\n      <td>43.789053</td>\n      <td>-79.408493</td>\n    </tr>\n    <tr>\n      <th>22</th>\n      <td>M2N</td>\n      <td>43.770120</td>\n      <td>-79.408493</td>\n    </tr>\n    <tr>\n      <th>23</th>\n      <td>M2P</td>\n      <td>43.752758</td>\n      <td>-79.400049</td>\n    </tr>\n    <tr>\n      <th>24</th>\n      <td>M2R</td>\n      <td>43.782736</td>\n      <td>-79.442259</td>\n    </tr>\n    <tr>\n      <th>25</th>\n      <td>M3A</td>\n      <td>43.753259</td>\n      <td>-79.329656</td>\n    </tr>\n    <tr>\n      <th>26</th>\n      <td>M3B</td>\n      <td>43.745906</td>\n      <td>-79.352188</td>\n    </tr>\n    <tr>\n      <th>27</th>\n      <td>M3C</td>\n      <td>43.725900</td>\n      <td>-79.340923</td>\n    </tr>\n    <tr>\n      <th>28</th>\n      <td>M3H</td>\n      <td>43.754328</td>\n      <td>-79.442259</td>\n    </tr>\n    <tr>\n      <th>29</th>\n      <td>M3J</td>\n      <td>43.767980</td>\n      <td>-79.487262</td>\n    </tr>\n    <tr>\n      <th>...</th>\n      <td>...</td>\n      <td>...</td>\n      <td>...</td>\n    </tr>\n    <tr>\n      <th>73</th>\n      <td>M6C</td>\n      <td>43.693781</td>\n      <td>-79.428191</td>\n    </tr>\n    <tr>\n      <th>74</th>\n      <td>M6E</td>\n      <td>43.689026</td>\n      <td>-79.453512</td>\n    </tr>\n    <tr>\n      <th>75</th>\n      <td>M6G</td>\n      <td>43.669542</td>\n      <td>-79.422564</td>\n    </tr>\n    <tr>\n      <th>76</th>\n      <td>M6H</td>\n      <td>43.669005</td>\n      <td>-79.442259</td>\n    </tr>\n    <tr>\n      <th>77</th>\n      <td>M6J</td>\n      <td>43.647927</td>\n      <td>-79.419750</td>\n    </tr>\n    <tr>\n      <th>78</th>\n      <td>M6K</td>\n      <td>43.636847</td>\n      <td>-79.428191</td>\n    </tr>\n    <tr>\n      <th>79</th>\n      <td>M6L</td>\n      <td>43.713756</td>\n      <td>-79.490074</td>\n    </tr>\n    <tr>\n      <th>80</th>\n      <td>M6M</td>\n      <td>43.691116</td>\n      <td>-79.476013</td>\n    </tr>\n    <tr>\n      <th>81</th>\n      <td>M6N</td>\n      <td>43.673185</td>\n      <td>-79.487262</td>\n    </tr>\n    <tr>\n      <th>82</th>\n      <td>M6P</td>\n      <td>43.661608</td>\n      <td>-79.464763</td>\n    </tr>\n    <tr>\n      <th>83</th>\n      <td>M6R</td>\n      <td>43.648960</td>\n      <td>-79.456325</td>\n    </tr>\n    <tr>\n      <th>84</th>\n      <td>M6S</td>\n      <td>43.651571</td>\n      <td>-79.484450</td>\n    </tr>\n    <tr>\n      <th>85</th>\n      <td>M7A</td>\n      <td>43.662301</td>\n      <td>-79.389494</td>\n    </tr>\n    <tr>\n      <th>86</th>\n      <td>M7R</td>\n      <td>43.636966</td>\n      <td>-79.615819</td>\n    </tr>\n    <tr>\n      <th>87</th>\n      <td>M7Y</td>\n      <td>43.662744</td>\n      <td>-79.321558</td>\n    </tr>\n    <tr>\n      <th>88</th>\n      <td>M8V</td>\n      <td>43.605647</td>\n      <td>-79.501321</td>\n    </tr>\n    <tr>\n      <th>89</th>\n      <td>M8W</td>\n      <td>43.602414</td>\n      <td>-79.543484</td>\n    </tr>\n    <tr>\n      <th>90</th>\n      <td>M8X</td>\n      <td>43.653654</td>\n      <td>-79.506944</td>\n    </tr>\n    <tr>\n      <th>91</th>\n      <td>M8Y</td>\n      <td>43.636258</td>\n      <td>-79.498509</td>\n    </tr>\n    <tr>\n      <th>92</th>\n      <td>M8Z</td>\n      <td>43.628841</td>\n      <td>-79.520999</td>\n    </tr>\n    <tr>\n      <th>93</th>\n      <td>M9A</td>\n      <td>43.667856</td>\n      <td>-79.532242</td>\n    </tr>\n    <tr>\n      <th>94</th>\n      <td>M9B</td>\n      <td>43.650943</td>\n      <td>-79.554724</td>\n    </tr>\n    <tr>\n      <th>95</th>\n      <td>M9C</td>\n      <td>43.643515</td>\n      <td>-79.577201</td>\n    </tr>\n    <tr>\n      <th>96</th>\n      <td>M9L</td>\n      <td>43.756303</td>\n      <td>-79.565963</td>\n    </tr>\n    <tr>\n      <th>97</th>\n      <td>M9M</td>\n      <td>43.724766</td>\n      <td>-79.532242</td>\n    </tr>\n    <tr>\n      <th>98</th>\n      <td>M9N</td>\n      <td>43.706876</td>\n      <td>-79.518188</td>\n    </tr>\n    <tr>\n      <th>99</th>\n      <td>M9P</td>\n      <td>43.696319</td>\n      <td>-79.532242</td>\n    </tr>\n    <tr>\n      <th>100</th>\n      <td>M9R</td>\n      <td>43.688905</td>\n      <td>-79.554724</td>\n    </tr>\n    <tr>\n      <th>101</th>\n      <td>M9V</td>\n      <td>43.739416</td>\n      <td>-79.588437</td>\n    </tr>\n    <tr>\n      <th>102</th>\n      <td>M9W</td>\n      <td>43.706748</td>\n      <td>-79.594054</td>\n    </tr>\n  </tbody>\n</table>\n<p>103 rows \u00d7 3 columns</p>\n</div>", 
                        "text/plain": "    Postal Code   Latitude  Longitude\n0           M1B  43.806686 -79.194353\n1           M1C  43.784535 -79.160497\n2           M1E  43.763573 -79.188711\n3           M1G  43.770992 -79.216917\n4           M1H  43.773136 -79.239476\n5           M1J  43.744734 -79.239476\n6           M1K  43.727929 -79.262029\n7           M1L  43.711112 -79.284577\n8           M1M  43.716316 -79.239476\n9           M1N  43.692657 -79.264848\n10          M1P  43.757410 -79.273304\n11          M1R  43.750072 -79.295849\n12          M1S  43.794200 -79.262029\n13          M1T  43.781638 -79.304302\n14          M1V  43.815252 -79.284577\n15          M1W  43.799525 -79.318389\n16          M1X  43.836125 -79.205636\n17          M2H  43.803762 -79.363452\n18          M2J  43.778517 -79.346556\n19          M2K  43.786947 -79.385975\n20          M2L  43.757490 -79.374714\n21          M2M  43.789053 -79.408493\n22          M2N  43.770120 -79.408493\n23          M2P  43.752758 -79.400049\n24          M2R  43.782736 -79.442259\n25          M3A  43.753259 -79.329656\n26          M3B  43.745906 -79.352188\n27          M3C  43.725900 -79.340923\n28          M3H  43.754328 -79.442259\n29          M3J  43.767980 -79.487262\n..          ...        ...        ...\n73          M6C  43.693781 -79.428191\n74          M6E  43.689026 -79.453512\n75          M6G  43.669542 -79.422564\n76          M6H  43.669005 -79.442259\n77          M6J  43.647927 -79.419750\n78          M6K  43.636847 -79.428191\n79          M6L  43.713756 -79.490074\n80          M6M  43.691116 -79.476013\n81          M6N  43.673185 -79.487262\n82          M6P  43.661608 -79.464763\n83          M6R  43.648960 -79.456325\n84          M6S  43.651571 -79.484450\n85          M7A  43.662301 -79.389494\n86          M7R  43.636966 -79.615819\n87          M7Y  43.662744 -79.321558\n88          M8V  43.605647 -79.501321\n89          M8W  43.602414 -79.543484\n90          M8X  43.653654 -79.506944\n91          M8Y  43.636258 -79.498509\n92          M8Z  43.628841 -79.520999\n93          M9A  43.667856 -79.532242\n94          M9B  43.650943 -79.554724\n95          M9C  43.643515 -79.577201\n96          M9L  43.756303 -79.565963\n97          M9M  43.724766 -79.532242\n98          M9N  43.706876 -79.518188\n99          M9P  43.696319 -79.532242\n100         M9R  43.688905 -79.554724\n101         M9V  43.739416 -79.588437\n102         M9W  43.706748 -79.594054\n\n[103 rows x 3 columns]"
                    }, 
                    "execution_count": 11
                }
            ], 
            "metadata": {}
        }, 
        {
            "source": "The data retrieved from the url presents the latitute and longitute of each post code, therefore, by comparing the \"Postcode\" column from table[0] with the column Postal code from geo, it is possible to update table[0] and add the latitude and longitude.", 
            "cell_type": "markdown", 
            "metadata": {}
        }, 
        {
            "source": "4 - Use the postal code from the geo dataframe to complete table[0].", 
            "cell_type": "markdown", 
            "metadata": {}
        }, 
        {
            "source": "#Create two empty list to save the latitude and longitude to save the information in the same order as presented in table[0]\nlatitude = []\nlongitude = []\n\n#All codes from table[0] should be filled, so a for loop is needed\nfor i in range(len(table[0])):\n    if geo[\"Postal Code\"][i] == table[0][\"Postcode\"][i]:\n        latitude.append(geo['Latitude'][i])\n        longitude.append(geo['Longitude'][i])", 
            "cell_type": "code", 
            "execution_count": 18, 
            "outputs": [], 
            "metadata": {}
        }, 
        {
            "source": "5 - Create the new columns on the datafram table[0].", 
            "cell_type": "markdown", 
            "metadata": {}
        }, 
        {
            "source": "table[0]['Latitude'] = latitude\ntable[0]['Longitude'] = longitude\ntable[0]", 
            "cell_type": "code", 
            "execution_count": 21, 
            "outputs": [
                {
                    "output_type": "execute_result", 
                    "metadata": {}, 
                    "data": {
                        "text/html": "<div>\n<style scoped>\n    .dataframe tbody tr th:only-of-type {\n        vertical-align: middle;\n    }\n\n    .dataframe tbody tr th {\n        vertical-align: top;\n    }\n\n    .dataframe thead th {\n        text-align: right;\n    }\n</style>\n<table border=\"1\" class=\"dataframe\">\n  <thead>\n    <tr style=\"text-align: right;\">\n      <th></th>\n      <th>Postcode</th>\n      <th>Borough</th>\n      <th>Neighbourhood</th>\n      <th>Latitude</th>\n      <th>Longitude</th>\n    </tr>\n  </thead>\n  <tbody>\n    <tr>\n      <th>0</th>\n      <td>M1B</td>\n      <td>Scarborough</td>\n      <td>Rouge, Malvern</td>\n      <td>43.806686</td>\n      <td>-79.194353</td>\n    </tr>\n    <tr>\n      <th>1</th>\n      <td>M1C</td>\n      <td>Scarborough</td>\n      <td>Highland Creek, Rouge Hill, Port Union</td>\n      <td>43.784535</td>\n      <td>-79.160497</td>\n    </tr>\n    <tr>\n      <th>2</th>\n      <td>M1E</td>\n      <td>Scarborough</td>\n      <td>Guildwood, Morningside, West Hill</td>\n      <td>43.763573</td>\n      <td>-79.188711</td>\n    </tr>\n    <tr>\n      <th>3</th>\n      <td>M1G</td>\n      <td>Scarborough</td>\n      <td>Woburn</td>\n      <td>43.770992</td>\n      <td>-79.216917</td>\n    </tr>\n    <tr>\n      <th>4</th>\n      <td>M1H</td>\n      <td>Scarborough</td>\n      <td>Cedarbrae</td>\n      <td>43.773136</td>\n      <td>-79.239476</td>\n    </tr>\n    <tr>\n      <th>5</th>\n      <td>M1J</td>\n      <td>Scarborough</td>\n      <td>Scarborough Village</td>\n      <td>43.744734</td>\n      <td>-79.239476</td>\n    </tr>\n    <tr>\n      <th>6</th>\n      <td>M1K</td>\n      <td>Scarborough</td>\n      <td>East Birchmount Park, Ionview, Kennedy Park</td>\n      <td>43.727929</td>\n      <td>-79.262029</td>\n    </tr>\n    <tr>\n      <th>7</th>\n      <td>M1L</td>\n      <td>Scarborough</td>\n      <td>Clairlea, Golden Mile, Oakridge</td>\n      <td>43.711112</td>\n      <td>-79.284577</td>\n    </tr>\n    <tr>\n      <th>8</th>\n      <td>M1M</td>\n      <td>Scarborough</td>\n      <td>Cliffcrest, Cliffside, Scarborough Village West</td>\n      <td>43.716316</td>\n      <td>-79.239476</td>\n    </tr>\n    <tr>\n      <th>9</th>\n      <td>M1N</td>\n      <td>Scarborough</td>\n      <td>Birch Cliff, Cliffside West</td>\n      <td>43.692657</td>\n      <td>-79.264848</td>\n    </tr>\n    <tr>\n      <th>10</th>\n      <td>M1P</td>\n      <td>Scarborough</td>\n      <td>Dorset Park, Scarborough Town Centre, Wexford ...</td>\n      <td>43.757410</td>\n      <td>-79.273304</td>\n    </tr>\n    <tr>\n      <th>11</th>\n      <td>M1R</td>\n      <td>Scarborough</td>\n      <td>Maryvale, Wexford</td>\n      <td>43.750072</td>\n      <td>-79.295849</td>\n    </tr>\n    <tr>\n      <th>12</th>\n      <td>M1S</td>\n      <td>Scarborough</td>\n      <td>Agincourt</td>\n      <td>43.794200</td>\n      <td>-79.262029</td>\n    </tr>\n    <tr>\n      <th>13</th>\n      <td>M1T</td>\n      <td>Scarborough</td>\n      <td>Clarks Corners, Sullivan, Tam O'Shanter</td>\n      <td>43.781638</td>\n      <td>-79.304302</td>\n    </tr>\n    <tr>\n      <th>14</th>\n      <td>M1V</td>\n      <td>Scarborough</td>\n      <td>Agincourt North, L'Amoreaux East, Milliken, St...</td>\n      <td>43.815252</td>\n      <td>-79.284577</td>\n    </tr>\n    <tr>\n      <th>15</th>\n      <td>M1W</td>\n      <td>Scarborough</td>\n      <td>L'Amoreaux West</td>\n      <td>43.799525</td>\n      <td>-79.318389</td>\n    </tr>\n    <tr>\n      <th>16</th>\n      <td>M1X</td>\n      <td>Scarborough</td>\n      <td>Upper Rouge</td>\n      <td>43.836125</td>\n      <td>-79.205636</td>\n    </tr>\n    <tr>\n      <th>17</th>\n      <td>M2H</td>\n      <td>North York</td>\n      <td>Hillcrest Village</td>\n      <td>43.803762</td>\n      <td>-79.363452</td>\n    </tr>\n    <tr>\n      <th>18</th>\n      <td>M2J</td>\n      <td>North York</td>\n      <td>Fairview, Henry Farm, Oriole</td>\n      <td>43.778517</td>\n      <td>-79.346556</td>\n    </tr>\n    <tr>\n      <th>19</th>\n      <td>M2K</td>\n      <td>North York</td>\n      <td>Bayview Village</td>\n      <td>43.786947</td>\n      <td>-79.385975</td>\n    </tr>\n    <tr>\n      <th>20</th>\n      <td>M2L</td>\n      <td>North York</td>\n      <td>Silver Hills, York Mills</td>\n      <td>43.757490</td>\n      <td>-79.374714</td>\n    </tr>\n    <tr>\n      <th>21</th>\n      <td>M2M</td>\n      <td>North York</td>\n      <td>Newtonbrook, Willowdale</td>\n      <td>43.789053</td>\n      <td>-79.408493</td>\n    </tr>\n    <tr>\n      <th>22</th>\n      <td>M2N</td>\n      <td>North York</td>\n      <td>Willowdale South</td>\n      <td>43.770120</td>\n      <td>-79.408493</td>\n    </tr>\n    <tr>\n      <th>23</th>\n      <td>M2P</td>\n      <td>North York</td>\n      <td>York Mills West</td>\n      <td>43.752758</td>\n      <td>-79.400049</td>\n    </tr>\n    <tr>\n      <th>24</th>\n      <td>M2R</td>\n      <td>North York</td>\n      <td>Willowdale West</td>\n      <td>43.782736</td>\n      <td>-79.442259</td>\n    </tr>\n    <tr>\n      <th>25</th>\n      <td>M3A</td>\n      <td>North York</td>\n      <td>Parkwoods</td>\n      <td>43.753259</td>\n      <td>-79.329656</td>\n    </tr>\n    <tr>\n      <th>26</th>\n      <td>M3B</td>\n      <td>North York</td>\n      <td>Don Mills North</td>\n      <td>43.745906</td>\n      <td>-79.352188</td>\n    </tr>\n    <tr>\n      <th>27</th>\n      <td>M3C</td>\n      <td>North York</td>\n      <td>Flemingdon Park, Don Mills South</td>\n      <td>43.725900</td>\n      <td>-79.340923</td>\n    </tr>\n    <tr>\n      <th>28</th>\n      <td>M3H</td>\n      <td>North York</td>\n      <td>Bathurst Manor, Downsview North, Wilson Heights</td>\n      <td>43.754328</td>\n      <td>-79.442259</td>\n    </tr>\n    <tr>\n      <th>29</th>\n      <td>M3J</td>\n      <td>North York</td>\n      <td>Northwood Park, York University</td>\n      <td>43.767980</td>\n      <td>-79.487262</td>\n    </tr>\n    <tr>\n      <th>...</th>\n      <td>...</td>\n      <td>...</td>\n      <td>...</td>\n      <td>...</td>\n      <td>...</td>\n    </tr>\n    <tr>\n      <th>73</th>\n      <td>M6C</td>\n      <td>York</td>\n      <td>Humewood-Cedarvale</td>\n      <td>43.693781</td>\n      <td>-79.428191</td>\n    </tr>\n    <tr>\n      <th>74</th>\n      <td>M6E</td>\n      <td>York</td>\n      <td>Caledonia-Fairbanks</td>\n      <td>43.689026</td>\n      <td>-79.453512</td>\n    </tr>\n    <tr>\n      <th>75</th>\n      <td>M6G</td>\n      <td>Downtown Toronto</td>\n      <td>Christie</td>\n      <td>43.669542</td>\n      <td>-79.422564</td>\n    </tr>\n    <tr>\n      <th>76</th>\n      <td>M6H</td>\n      <td>West Toronto</td>\n      <td>Dovercourt Village, Dufferin</td>\n      <td>43.669005</td>\n      <td>-79.442259</td>\n    </tr>\n    <tr>\n      <th>77</th>\n      <td>M6J</td>\n      <td>West Toronto</td>\n      <td>Little Portugal, Trinity</td>\n      <td>43.647927</td>\n      <td>-79.419750</td>\n    </tr>\n    <tr>\n      <th>78</th>\n      <td>M6K</td>\n      <td>West Toronto</td>\n      <td>Brockton, Exhibition Place, Parkdale Village</td>\n      <td>43.636847</td>\n      <td>-79.428191</td>\n    </tr>\n    <tr>\n      <th>79</th>\n      <td>M6L</td>\n      <td>North York</td>\n      <td>Downsview, North Park, Upwood Park</td>\n      <td>43.713756</td>\n      <td>-79.490074</td>\n    </tr>\n    <tr>\n      <th>80</th>\n      <td>M6M</td>\n      <td>York</td>\n      <td>Del Ray, Keelesdale, Mount Dennis, Silverthorn</td>\n      <td>43.691116</td>\n      <td>-79.476013</td>\n    </tr>\n    <tr>\n      <th>81</th>\n      <td>M6N</td>\n      <td>York</td>\n      <td>The Junction North, Runnymede</td>\n      <td>43.673185</td>\n      <td>-79.487262</td>\n    </tr>\n    <tr>\n      <th>82</th>\n      <td>M6P</td>\n      <td>West Toronto</td>\n      <td>High Park, The Junction South</td>\n      <td>43.661608</td>\n      <td>-79.464763</td>\n    </tr>\n    <tr>\n      <th>83</th>\n      <td>M6R</td>\n      <td>West Toronto</td>\n      <td>Parkdale, Roncesvalles</td>\n      <td>43.648960</td>\n      <td>-79.456325</td>\n    </tr>\n    <tr>\n      <th>84</th>\n      <td>M6S</td>\n      <td>West Toronto</td>\n      <td>Runnymede, Swansea</td>\n      <td>43.651571</td>\n      <td>-79.484450</td>\n    </tr>\n    <tr>\n      <th>85</th>\n      <td>M7A</td>\n      <td>Queen's Park</td>\n      <td>Queen's Park</td>\n      <td>43.662301</td>\n      <td>-79.389494</td>\n    </tr>\n    <tr>\n      <th>86</th>\n      <td>M7R</td>\n      <td>Mississauga</td>\n      <td>Canada Post Gateway Processing Centre</td>\n      <td>43.636966</td>\n      <td>-79.615819</td>\n    </tr>\n    <tr>\n      <th>87</th>\n      <td>M7Y</td>\n      <td>East Toronto</td>\n      <td>Business Reply Mail Processing Centre 969 Eastern</td>\n      <td>43.662744</td>\n      <td>-79.321558</td>\n    </tr>\n    <tr>\n      <th>88</th>\n      <td>M8V</td>\n      <td>Etobicoke</td>\n      <td>Humber Bay Shores, Mimico South, New Toronto</td>\n      <td>43.605647</td>\n      <td>-79.501321</td>\n    </tr>\n    <tr>\n      <th>89</th>\n      <td>M8W</td>\n      <td>Etobicoke</td>\n      <td>Alderwood, Long Branch</td>\n      <td>43.602414</td>\n      <td>-79.543484</td>\n    </tr>\n    <tr>\n      <th>90</th>\n      <td>M8X</td>\n      <td>Etobicoke</td>\n      <td>The Kingsway, Montgomery Road, Old Mill North</td>\n      <td>43.653654</td>\n      <td>-79.506944</td>\n    </tr>\n    <tr>\n      <th>91</th>\n      <td>M8Y</td>\n      <td>Etobicoke</td>\n      <td>Humber Bay, King's Mill Park, Kingsway Park So...</td>\n      <td>43.636258</td>\n      <td>-79.498509</td>\n    </tr>\n    <tr>\n      <th>92</th>\n      <td>M8Z</td>\n      <td>Etobicoke</td>\n      <td>Kingsway Park South West, Mimico NW, The Queen...</td>\n      <td>43.628841</td>\n      <td>-79.520999</td>\n    </tr>\n    <tr>\n      <th>93</th>\n      <td>M9A</td>\n      <td>Etobicoke</td>\n      <td>Islington Avenue</td>\n      <td>43.667856</td>\n      <td>-79.532242</td>\n    </tr>\n    <tr>\n      <th>94</th>\n      <td>M9B</td>\n      <td>Etobicoke</td>\n      <td>Cloverdale, Islington, Martin Grove, Princess ...</td>\n      <td>43.650943</td>\n      <td>-79.554724</td>\n    </tr>\n    <tr>\n      <th>95</th>\n      <td>M9C</td>\n      <td>Etobicoke</td>\n      <td>Bloordale Gardens, Eringate, Markland Wood, Ol...</td>\n      <td>43.643515</td>\n      <td>-79.577201</td>\n    </tr>\n    <tr>\n      <th>96</th>\n      <td>M9L</td>\n      <td>North York</td>\n      <td>Humber Summit</td>\n      <td>43.756303</td>\n      <td>-79.565963</td>\n    </tr>\n    <tr>\n      <th>97</th>\n      <td>M9M</td>\n      <td>North York</td>\n      <td>Emery, Humberlea</td>\n      <td>43.724766</td>\n      <td>-79.532242</td>\n    </tr>\n    <tr>\n      <th>98</th>\n      <td>M9N</td>\n      <td>York</td>\n      <td>Weston</td>\n      <td>43.706876</td>\n      <td>-79.518188</td>\n    </tr>\n    <tr>\n      <th>99</th>\n      <td>M9P</td>\n      <td>Etobicoke</td>\n      <td>Westmount</td>\n      <td>43.696319</td>\n      <td>-79.532242</td>\n    </tr>\n    <tr>\n      <th>100</th>\n      <td>M9R</td>\n      <td>Etobicoke</td>\n      <td>Kingsview Village, Martin Grove Gardens, Richv...</td>\n      <td>43.688905</td>\n      <td>-79.554724</td>\n    </tr>\n    <tr>\n      <th>101</th>\n      <td>M9V</td>\n      <td>Etobicoke</td>\n      <td>Albion Gardens, Beaumond Heights, Humbergate, ...</td>\n      <td>43.739416</td>\n      <td>-79.588437</td>\n    </tr>\n    <tr>\n      <th>102</th>\n      <td>M9W</td>\n      <td>Etobicoke</td>\n      <td>Northwest</td>\n      <td>43.706748</td>\n      <td>-79.594054</td>\n    </tr>\n  </tbody>\n</table>\n<p>103 rows \u00d7 5 columns</p>\n</div>", 
                        "text/plain": "    Postcode           Borough  \\\n0        M1B       Scarborough   \n1        M1C       Scarborough   \n2        M1E       Scarborough   \n3        M1G       Scarborough   \n4        M1H       Scarborough   \n5        M1J       Scarborough   \n6        M1K       Scarborough   \n7        M1L       Scarborough   \n8        M1M       Scarborough   \n9        M1N       Scarborough   \n10       M1P       Scarborough   \n11       M1R       Scarborough   \n12       M1S       Scarborough   \n13       M1T       Scarborough   \n14       M1V       Scarborough   \n15       M1W       Scarborough   \n16       M1X       Scarborough   \n17       M2H        North York   \n18       M2J        North York   \n19       M2K        North York   \n20       M2L        North York   \n21       M2M        North York   \n22       M2N        North York   \n23       M2P        North York   \n24       M2R        North York   \n25       M3A        North York   \n26       M3B        North York   \n27       M3C        North York   \n28       M3H        North York   \n29       M3J        North York   \n..       ...               ...   \n73       M6C              York   \n74       M6E              York   \n75       M6G  Downtown Toronto   \n76       M6H      West Toronto   \n77       M6J      West Toronto   \n78       M6K      West Toronto   \n79       M6L        North York   \n80       M6M              York   \n81       M6N              York   \n82       M6P      West Toronto   \n83       M6R      West Toronto   \n84       M6S      West Toronto   \n85       M7A      Queen's Park   \n86       M7R       Mississauga   \n87       M7Y      East Toronto   \n88       M8V         Etobicoke   \n89       M8W         Etobicoke   \n90       M8X         Etobicoke   \n91       M8Y         Etobicoke   \n92       M8Z         Etobicoke   \n93       M9A         Etobicoke   \n94       M9B         Etobicoke   \n95       M9C         Etobicoke   \n96       M9L        North York   \n97       M9M        North York   \n98       M9N              York   \n99       M9P         Etobicoke   \n100      M9R         Etobicoke   \n101      M9V         Etobicoke   \n102      M9W         Etobicoke   \n\n                                         Neighbourhood   Latitude  Longitude  \n0                                       Rouge, Malvern  43.806686 -79.194353  \n1               Highland Creek, Rouge Hill, Port Union  43.784535 -79.160497  \n2                    Guildwood, Morningside, West Hill  43.763573 -79.188711  \n3                                               Woburn  43.770992 -79.216917  \n4                                            Cedarbrae  43.773136 -79.239476  \n5                                  Scarborough Village  43.744734 -79.239476  \n6          East Birchmount Park, Ionview, Kennedy Park  43.727929 -79.262029  \n7                      Clairlea, Golden Mile, Oakridge  43.711112 -79.284577  \n8      Cliffcrest, Cliffside, Scarborough Village West  43.716316 -79.239476  \n9                          Birch Cliff, Cliffside West  43.692657 -79.264848  \n10   Dorset Park, Scarborough Town Centre, Wexford ...  43.757410 -79.273304  \n11                                   Maryvale, Wexford  43.750072 -79.295849  \n12                                           Agincourt  43.794200 -79.262029  \n13             Clarks Corners, Sullivan, Tam O'Shanter  43.781638 -79.304302  \n14   Agincourt North, L'Amoreaux East, Milliken, St...  43.815252 -79.284577  \n15                                     L'Amoreaux West  43.799525 -79.318389  \n16                                         Upper Rouge  43.836125 -79.205636  \n17                                   Hillcrest Village  43.803762 -79.363452  \n18                        Fairview, Henry Farm, Oriole  43.778517 -79.346556  \n19                                     Bayview Village  43.786947 -79.385975  \n20                            Silver Hills, York Mills  43.757490 -79.374714  \n21                             Newtonbrook, Willowdale  43.789053 -79.408493  \n22                                    Willowdale South  43.770120 -79.408493  \n23                                     York Mills West  43.752758 -79.400049  \n24                                     Willowdale West  43.782736 -79.442259  \n25                                           Parkwoods  43.753259 -79.329656  \n26                                     Don Mills North  43.745906 -79.352188  \n27                    Flemingdon Park, Don Mills South  43.725900 -79.340923  \n28     Bathurst Manor, Downsview North, Wilson Heights  43.754328 -79.442259  \n29                     Northwood Park, York University  43.767980 -79.487262  \n..                                                 ...        ...        ...  \n73                                  Humewood-Cedarvale  43.693781 -79.428191  \n74                                 Caledonia-Fairbanks  43.689026 -79.453512  \n75                                            Christie  43.669542 -79.422564  \n76                        Dovercourt Village, Dufferin  43.669005 -79.442259  \n77                            Little Portugal, Trinity  43.647927 -79.419750  \n78        Brockton, Exhibition Place, Parkdale Village  43.636847 -79.428191  \n79                  Downsview, North Park, Upwood Park  43.713756 -79.490074  \n80      Del Ray, Keelesdale, Mount Dennis, Silverthorn  43.691116 -79.476013  \n81                       The Junction North, Runnymede  43.673185 -79.487262  \n82                       High Park, The Junction South  43.661608 -79.464763  \n83                              Parkdale, Roncesvalles  43.648960 -79.456325  \n84                                  Runnymede, Swansea  43.651571 -79.484450  \n85                                        Queen's Park  43.662301 -79.389494  \n86               Canada Post Gateway Processing Centre  43.636966 -79.615819  \n87   Business Reply Mail Processing Centre 969 Eastern  43.662744 -79.321558  \n88        Humber Bay Shores, Mimico South, New Toronto  43.605647 -79.501321  \n89                              Alderwood, Long Branch  43.602414 -79.543484  \n90       The Kingsway, Montgomery Road, Old Mill North  43.653654 -79.506944  \n91   Humber Bay, King's Mill Park, Kingsway Park So...  43.636258 -79.498509  \n92   Kingsway Park South West, Mimico NW, The Queen...  43.628841 -79.520999  \n93                                    Islington Avenue  43.667856 -79.532242  \n94   Cloverdale, Islington, Martin Grove, Princess ...  43.650943 -79.554724  \n95   Bloordale Gardens, Eringate, Markland Wood, Ol...  43.643515 -79.577201  \n96                                       Humber Summit  43.756303 -79.565963  \n97                                    Emery, Humberlea  43.724766 -79.532242  \n98                                              Weston  43.706876 -79.518188  \n99                                           Westmount  43.696319 -79.532242  \n100  Kingsview Village, Martin Grove Gardens, Richv...  43.688905 -79.554724  \n101  Albion Gardens, Beaumond Heights, Humbergate, ...  43.739416 -79.588437  \n102                                          Northwest  43.706748 -79.594054  \n\n[103 rows x 5 columns]"
                    }, 
                    "execution_count": 21
                }
            ], 
            "metadata": {}
        }, 
        {
            "source": "", 
            "cell_type": "code", 
            "execution_count": null, 
            "outputs": [], 
            "metadata": {}
        }
    ], 
    "nbformat": 4, 
    "metadata": {
        "kernelspec": {
            "display_name": "Python 3.6", 
            "name": "python3", 
            "language": "python"
        }, 
        "language_info": {
            "mimetype": "text/x-python", 
            "nbconvert_exporter": "python", 
            "version": "3.6.8", 
            "name": "python", 
            "pygments_lexer": "ipython3", 
            "file_extension": ".py", 
            "codemirror_mode": {
                "version": 3, 
                "name": "ipython"
            }
        }
    }
}