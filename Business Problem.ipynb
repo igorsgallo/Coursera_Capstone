{
    "nbformat_minor": 1, 
    "cells": [
        {
            "source": "# Battle of neighborhoods (part 1)\n\nThis notebook is part of the Applied Data Science Capstone final project. In this notebook will be described a business problem proposal to be reviewed by other students, and if approved, will be my final project for the course.\n\nOne of the major natural sites of S\u00e3o Paulo \u2013 Brazil is the Ibirapuera park. The park has over 100 hectares and it is in Moema neighborhood, in the center-south of S\u00e3o Paulo. The park is one of the most famous parks in Latin America, attracting millions of visitors a year.\n\nDue the large number of visitors the park receives every day, an investor would like to know if the surrounding of the park would be a good place to build his restaurant. To answer this question, the investor will open his restaurant if there is a region, next to the park, with not too many competitors. If such area is available, he also wants to know if it is better to open a Italian restaurant, a vegetarian restaurant or a Japanese restaurant, the types of food the already invests in. ", 
            "cell_type": "markdown", 
            "metadata": {
                "collapsed": true
            }
        }
    ], 
    "nbformat": 4, 
    "metadata": {
        "kernelspec": {
            "display_name": "Python 3.6", 
            "name": "python3", 
            "language": "python"
        }, 
        "language_info": {
            "mimetype": "text/x-python", 
            "nbconvert_exporter": "python", 
            "version": "3.6.8", 
            "name": "python", 
            "pygments_lexer": "ipython3", 
            "file_extension": ".py", 
            "codemirror_mode": {
                "version": 3, 
                "name": "ipython"
            }
        }
    }
}