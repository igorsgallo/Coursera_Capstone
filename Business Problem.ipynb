{
 "cells": [
  {
   "cell_type": "markdown",
   "metadata": {
    "collapsed": true
   },
   "source": [
    "# Battle of neighborhoods (part 1)\n",
    "\n",
    "This notebook is part of the Applied Data Science Capstone final project. In this notebook will be described a business problem proposal to be reviewed by other students, and if approved, will be my final project for the course.\n",
    "\n",
    "One of the major natural sites of São Paulo – Brazil is the Ibirapuera park. The park has over 100 hectares and it is in Moema neighborhood, in the center-south of São Paulo. The park is one of the most famous parks in Latin America, attracting millions of visitors a year.\n",
    "\n",
    "Due the large number of visitors the park receives every day, an investor would like to know if the surrounding of the park would be a good place to build his restaurant. To answer this question, the investor will open his restaurant if there is a region, next to the park, with not too many competitors. If such area is available, he also wants to know if it is better to open a Italian, a vegetarian or a Japanese restaurant, the types of food he already invests in."
   ]
  },
  {
   "cell_type": "code",
   "execution_count": null,
   "metadata": {},
   "outputs": [],
   "source": []
  }
 ],
 "metadata": {
  "kernelspec": {
   "display_name": "Python 3.6",
   "language": "python",
   "name": "python3"
  },
  "language_info": {
   "codemirror_mode": {
    "name": "ipython",
    "version": 3
   },
   "file_extension": ".py",
   "mimetype": "text/x-python",
   "name": "python",
   "nbconvert_exporter": "python",
   "pygments_lexer": "ipython3",
   "version": "3.6.8"
  }
 },
 "nbformat": 4,
 "nbformat_minor": 1
}
