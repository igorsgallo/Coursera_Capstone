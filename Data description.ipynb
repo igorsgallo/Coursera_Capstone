{
 "cells": [
  {
   "cell_type": "markdown",
   "metadata": {
    "collapsed": true
   },
   "source": [
    "# Data description and research method\n",
    "\n",
    "This notebook is part of the Applied Data Science Capstone final project. In this notebook will be described the data collection and research method to be reviewed by other students, and if approved, will be part of my final project for the course."
   ]
  },
  {
   "cell_type": "markdown",
   "metadata": {},
   "source": [
    "To answer the question proposed in the business problem, some location information will be required. First, it is necessary the latitude and longitude of the park. Due to its size, the center of the park will be used as reference for its location. The latitude and longitude were already identified using Google maps and is -23.588375, -46.658258.\n",
    "With the latitude and longitude of the park, the closest food venues will be identified through Foursquare API, with a radius of 2500 meters. This large radius was chosen due the size of the park. With a 2500 radius, we will assure that at least a five-block radius surrounding the park will be considered when looking for food venues. "
   ]
  },
  {
   "cell_type": "markdown",
   "metadata": {},
   "source": [
    "After collecting the data, the data will be reviewed and cleaned. A cluster analysis will be performed using the latitude and longitude of the venues to identify regions with lower density of food venues. The clusters will be plotted through using folium to make the visualization easier. If there is a low density region, the categories of the venues will be reviewed to see what are the most popular food types and a recommendation of a type of restaurant will be made based on the other types of restaurants available in the region selected."
   ]
  },
  {
   "cell_type": "code",
   "execution_count": null,
   "metadata": {},
   "outputs": [],
   "source": []
  }
 ],
 "metadata": {
  "kernelspec": {
   "display_name": "Python 3.6",
   "language": "python",
   "name": "python3"
  },
  "language_info": {
   "codemirror_mode": {
    "name": "ipython",
    "version": 3
   },
   "file_extension": ".py",
   "mimetype": "text/x-python",
   "name": "python",
   "nbconvert_exporter": "python",
   "pygments_lexer": "ipython3",
   "version": "3.6.8"
  }
 },
 "nbformat": 4,
 "nbformat_minor": 1
}
